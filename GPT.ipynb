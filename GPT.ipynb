{
 "cells": [
  {
   "cell_type": "code",
   "execution_count": null,
   "id": "dad5c2d9",
   "metadata": {},
   "outputs": [],
   "source": [
    "import torch\n",
    "import torch.nn as nn\n",
    "from torch.nn import functional as F"
   ]
  },
  {
   "cell_type": "code",
   "execution_count": null,
   "id": "55e98f95",
   "metadata": {},
   "outputs": [],
   "source": [
    "with open(\"input.txt\", 'r') as f:\n",
    "    raw_data = f.read()"
   ]
  },
  {
   "cell_type": "code",
   "execution_count": null,
   "id": "e161692f",
   "metadata": {},
   "outputs": [],
   "source": [
    "chars = sorted(list(set(raw_data)))\n",
    "vocab_size = len(chars)"
   ]
  },
  {
   "cell_type": "code",
   "execution_count": null,
   "id": "5b2147c5",
   "metadata": {},
   "outputs": [],
   "source": [
    "\"\".join(chars)"
   ]
  },
  {
   "cell_type": "markdown",
   "id": "45daae42",
   "metadata": {},
   "source": [
    "stoi: string to index encoder <br>\n",
    "itos: index to string decoder"
   ]
  },
  {
   "cell_type": "code",
   "execution_count": null,
   "id": "73cec640",
   "metadata": {},
   "outputs": [],
   "source": [
    "stoi = { ch:i for i,ch in enumerate(chars) }\n",
    "itos = { i:ch for i,ch in enumerate(chars) }\n",
    "encode = lambda s: [stoi[c] for c in s] \n",
    "decode = lambda l: ''.join([itos[i] for i in l])"
   ]
  },
  {
   "cell_type": "code",
   "execution_count": null,
   "id": "4207c065",
   "metadata": {},
   "outputs": [],
   "source": [
    "data = torch.tensor(encode(raw_data), dtype=torch.long)"
   ]
  },
  {
   "cell_type": "markdown",
   "id": "7cb6fb64",
   "metadata": {},
   "source": [
    "Splits Data into training-90%, validation-10%"
   ]
  },
  {
   "cell_type": "code",
   "execution_count": null,
   "id": "e9e3c592",
   "metadata": {},
   "outputs": [],
   "source": [
    "n = int(0.9*len(data))\n",
    "train_data = data[:n]\n",
    "val_data = data[n:]"
   ]
  },
  {
   "cell_type": "code",
   "execution_count": null,
   "id": "331b46a0",
   "metadata": {},
   "outputs": [],
   "source": [
    "#Hyparameters\n",
    "batch_size = 16 # how many independent sequences will we process in parallel?\n",
    "block_size = 12 # what is the maximum context length for predictions?\n",
    "max_iters = 300\n",
    "eval_interval = 100\n",
    "learning_rate = 1e-3\n",
    "eval_iters = 100\n",
    "n_embd = 256\n",
    "n_head = 8\n",
    "n_layer = 8\n",
    "dropout = 0.0\n",
    "ffn_multiplier = 4\n",
    "device = 'cuda' if torch.cuda.is_available() else 'cpu'"
   ]
  },
  {
   "cell_type": "markdown",
   "id": "ab0ea6cf",
   "metadata": {},
   "source": [
    "Get batches for training and validation"
   ]
  },
  {
   "cell_type": "code",
   "execution_count": null,
   "id": "08f6be3c",
   "metadata": {},
   "outputs": [],
   "source": [
    "def get_batch(split):\n",
    "    data = train_data if split == 'train' else val_data\n",
    "    ix = torch.randint(len(data) - block_size, (batch_size,))\n",
    "    x = torch.stack([data[i:i+block_size] for i in ix])\n",
    "    y = torch.stack([data[i+1:i+block_size+1] for i in ix])\n",
    "    x, y = x.to(device), y.to(device)\n",
    "    return x, y"
   ]
  },
  {
   "cell_type": "markdown",
   "id": "e90f6122",
   "metadata": {},
   "source": [
    "Gives Decay_Mask for single head for a given gamma value"
   ]
  },
  {
   "cell_type": "code",
   "execution_count": null,
   "id": "ba21bfb9",
   "metadata": {},
   "outputs": [],
   "source": [
    "def get_matrix_D(dim, gamma) -> torch.tensor:\n",
    "    D = torch.tril(torch.ones(dim, device=device)) #initializes a lower triangular matrix of shape Q*(K.T)\n",
    "    # Adds gamma values into D\n",
    "    for i in range(dim[0]): \n",
    "        for j in range(i):\n",
    "            D[i][j] = (gamma)**(i - j)\n",
    "    return D"
   ]
  },
  {
   "cell_type": "markdown",
   "id": "f6a07f41",
   "metadata": {},
   "source": [
    "Parallel Retention Module"
   ]
  },
  {
   "cell_type": "code",
   "execution_count": null,
   "id": "09b21d88",
   "metadata": {},
   "outputs": [],
   "source": [
    "class SingleHeadRetention(nn.Module):\n",
    "    def __init__(self, gamma, n_embd, head_dim):\n",
    "        \n",
    "        super().__init__()\n",
    "        self.gamma = gamma\n",
    "        self.head_dim = head_dim\n",
    "        self.n_emd = n_embd\n",
    "        self.W_Q = nn.Linear(n_embd, head_dim, bias=False)\n",
    "        self.W_K = nn.Linear(n_embd, head_dim, bias=False)\n",
    "        self.W_V = nn.Linear(n_embd, head_dim, bias=False)\n",
    "        self.dropout = nn.Dropout(dropout)\n",
    "         \n",
    "    def forward(self, X):\n",
    "        B, T, C = X.shape\n",
    "        Q = self.W_Q(X) # X @ Q / Q(X)\n",
    "        K = self.W_K(X) # X @ K\n",
    "        V = self.W_V(X) # X @ V\n",
    "        D = get_matrix_D((T,T), self.gamma) # D\n",
    "        \n",
    "        retention = torch.einsum(\"bqh, bkh -> bqk\", [Q, K]) # Q @ K.T\n",
    "        retention = self.dropout(retention)\n",
    "        retention = torch.einsum(\"bij, ij -> bij\", [retention, D]) # (Q @ K.T) * D\n",
    "        output = torch.einsum(\"bij, bjk -> bik\", [retention, V]) # ((Q @ K.T) * D) @ V\n",
    "        return output"
   ]
  },
  {
   "cell_type": "code",
   "execution_count": null,
   "id": "01e10259",
   "metadata": {},
   "outputs": [],
   "source": [
    "class MultiHeadRetention(nn.Module):\n",
    "    def __init__(self, n_head, block_size, n_embd):\n",
    "        super().__init__()\n",
    "        assert n_embd % n_head == 0\n",
    "        self.n_head = n_head\n",
    "        self.n_embd = n_embd\n",
    "        self.W_G = nn.Linear(n_embd, n_embd, bias=False)\n",
    "        self.W_O = nn.Linear(n_embd, n_embd, bias=False)\n",
    "        self.swish = nn.SiLU()\n",
    "        self.gammas = 1 - 2**(-5-torch.arange(0, n_head))\n",
    "        # initializes heads for different gamma values\n",
    "        self.heads = nn.ModuleList([SingleHeadRetention(gamma, n_embd = self.n_embd, head_dim = (self.n_embd // self.n_head)) for gamma in self.gammas])\n",
    "        self.dropout = nn.Dropout(dropout)\n",
    "        \n",
    "    def forward(self, X):\n",
    "        B, T, C = X.shape\n",
    "        head_output = []\n",
    "        # head(i) = Retention(X, gamma(i))\n",
    "        for head in self.heads:\n",
    "            head_output.append(head(X))\n",
    "        # head_output = concat(head(1),..., head(n_head))\n",
    "        head_output = torch.cat(head_output, dim=-1)\n",
    "        head_output = self.dropout(head_output)\n",
    "        # GroupNorm Instance (dividing n_embed into groups of n_head)\n",
    "        group_norm = nn.GroupNorm(self.n_head, self.n_embd, device=device)\n",
    "        # B,T,C -> B*T,C nn.GroupNorm takes input as (N, C)\n",
    "        Y = head_output.view(B*T, C)\n",
    "        # applying Group Norm\n",
    "        Y = group_norm(Y)\n",
    "        # B*T,C -> B,T,C\n",
    "        Y = Y.view(B, T, C)\n",
    "        MHR = self.W_O(self.swish(self.W_G(X)) * Y) # (swish(X @ W_G) * Y) @ W_O\n",
    "        return MHR\n",
    "        "
   ]
  },
  {
   "cell_type": "code",
   "execution_count": null,
   "id": "f03e9f8b",
   "metadata": {},
   "outputs": [],
   "source": [
    "class RetentionBlock(nn.Module):\n",
    "    def __init__(self, n_head, n_embd, ffn_multiplier):\n",
    "        super().__init__()\n",
    "        self.n_head = n_head\n",
    "        self.n_embd = n_embd\n",
    "        self.MHR = MultiHeadRetention(self.n_head, block_size, self.n_embd)\n",
    "        self.FFN = nn.Sequential(\n",
    "                    nn.Linear(n_embd, ffn_multiplier * n_embd),\n",
    "                    nn.GELU(),\n",
    "                    nn.Linear(ffn_multiplier * n_embd, n_embd),\n",
    "                    nn.Dropout(dropout))\n",
    "        self.layer_norm_1 = nn.LayerNorm(n_embd)\n",
    "        self.layer_norm_2 = nn.LayerNorm(n_embd)\n",
    "        \n",
    "    def forward(self, X):\n",
    "        X = X + self.MHR(self.layer_norm_1(X))\n",
    "        X = X + self.FFN(self.layer_norm_2(X))\n",
    "        return X"
   ]
  },
  {
   "cell_type": "code",
   "execution_count": null,
   "id": "c93fed7e",
   "metadata": {},
   "outputs": [],
   "source": [
    "class LanguageModel(nn.Module):\n",
    "    def __init__(self, n_layer, n_head, block_size, vocab_size, n_embd, ffn_multiplier):\n",
    "        super().__init__()\n",
    "        self.token_embedding_table = nn.Embedding(vocab_size, n_embd)\n",
    "        self.position_embedding_table = nn.Embedding(block_size, n_embd) # not using xPos as in paper\n",
    "        self.layers = nn.Sequential(*[RetentionBlock(n_head, n_embd, ffn_multiplier) for i in range(n_layer)])\n",
    "        self.lm_head = nn.Linear(n_embd, vocab_size)\n",
    "        \n",
    "    def forward(self, idx, targets=None):\n",
    "        B, T = idx.shape\n",
    "        tok_emb = self.token_embedding_table(idx)\n",
    "        pos_emb = self.position_embedding_table(torch.arange(T, device=device)) \n",
    "        X = tok_emb + pos_emb \n",
    "        X = self.layers(X)\n",
    "        logits = self.lm_head(X)\n",
    "\n",
    "        if targets is None:\n",
    "            loss = None\n",
    "        else:\n",
    "            B, T, C = logits.shape\n",
    "            logits = logits.view(B*T, C)\n",
    "            targets = targets.view(B*T)\n",
    "            # crossEntropy takes (B*T,C) shape inputs \n",
    "            loss = F.cross_entropy(logits, targets)\n",
    "\n",
    "        return logits, loss\n",
    "\n",
    "    def generate(self, idx, max_new_tokens):\n",
    "        for _ in range(max_new_tokens):\n",
    "            # crop idx to the last block_size tokens\n",
    "            idx_cond = idx[:, -block_size:]\n",
    "            # get the predictions\n",
    "            logits, loss = self(idx_cond)\n",
    "            # focus only on the last time step\n",
    "            logits = logits[:, -1, :] # becomes (B, C)\n",
    "            # apply softmax to get probabilities\n",
    "            probs = F.softmax(logits, dim=-1) # (B, C)\n",
    "            # sample from the distribution\n",
    "            idx_next = torch.multinomial(probs, num_samples=1) # (B, 1)\n",
    "            # append sampled index to the running sequence\n",
    "            idx = torch.cat((idx, idx_next), dim=1) # (B, T+1)\n",
    "        return idx"
   ]
  },
  {
   "cell_type": "code",
   "execution_count": null,
   "id": "68c37155",
   "metadata": {},
   "outputs": [],
   "source": [
    "@torch.no_grad()\n",
    "def estimate_loss():\n",
    "    out = {}\n",
    "    model.eval()\n",
    "    for split in ['train', 'val']:\n",
    "        losses = torch.zeros(eval_iters)\n",
    "        for k in range(eval_iters):\n",
    "            X, Y = get_batch(split)\n",
    "            logits, loss = model(X, Y)\n",
    "            losses[k] = loss.item()\n",
    "        out[split] = losses.mean()\n",
    "    model.train()\n",
    "    return out"
   ]
  },
  {
   "cell_type": "code",
   "execution_count": null,
   "id": "13c40de2",
   "metadata": {},
   "outputs": [],
   "source": [
    "model = LanguageModel(n_layer, n_head, block_size, vocab_size, n_embd, ffn_multiplier)\n",
    "model = model.to(device)"
   ]
  },
  {
   "cell_type": "code",
   "execution_count": null,
   "id": "6b95d06f",
   "metadata": {},
   "outputs": [],
   "source": [
    "print(sum(p.numel() for p in model.parameters())/1e6, 'M parameters')"
   ]
  },
  {
   "cell_type": "code",
   "execution_count": null,
   "id": "b16cbf6a",
   "metadata": {},
   "outputs": [],
   "source": [
    "optimizer = torch.optim.AdamW(model.parameters(), lr=learning_rate)"
   ]
  },
  {
   "cell_type": "code",
   "execution_count": null,
   "id": "f959ab65",
   "metadata": {},
   "outputs": [],
   "source": [
    "xb, yb = get_batch('train')"
   ]
  },
  {
   "cell_type": "code",
   "execution_count": null,
   "id": "90c0fa0a",
   "metadata": {},
   "outputs": [],
   "source": [
    "logits, loss = model(xb, yb)"
   ]
  },
  {
   "cell_type": "code",
   "execution_count": null,
   "id": "f4332027",
   "metadata": {},
   "outputs": [],
   "source": [
    "for iter in range(max_iters):\n",
    "\n",
    "    # every once in a while evaluate the loss on train and val sets\n",
    "    if iter % eval_interval == 0 or iter == max_iters - 1:\n",
    "        losses = estimate_loss()\n",
    "        print(f\"step {iter}: train loss {losses['train']:.4f}, val loss {losses['val']:.4f}\")\n",
    "\n",
    "    # sample a batch of data\n",
    "    xb, yb = get_batch('train')\n",
    "\n",
    "    # evaluate the loss\n",
    "    logits, loss = model(xb, yb)\n",
    "    optimizer.zero_grad(set_to_none=True)\n",
    "    loss.backward()\n",
    "    optimizer.step()"
   ]
  },
  {
   "cell_type": "code",
   "execution_count": null,
   "id": "a14d6c28",
   "metadata": {},
   "outputs": [],
   "source": [
    "result = model.generate(torch.zeros((1,1), dtype=torch.int, device=device), 300) # Generating new Char from Model, initializing with [[0]]"
   ]
  },
  {
   "cell_type": "code",
   "execution_count": null,
   "id": "6c4ebe4d",
   "metadata": {
    "scrolled": true
   },
   "outputs": [],
   "source": [
    "decode(result[0].tolist()) # Decoding the result"
   ]
  },
  {
   "cell_type": "code",
   "execution_count": null,
   "id": "9b96b3f7",
   "metadata": {},
   "outputs": [],
   "source": []
  }
 ],
 "metadata": {
  "kernelspec": {
   "display_name": "Python 3 (ipykernel)",
   "language": "python",
   "name": "python3"
  },
  "language_info": {
   "codemirror_mode": {
    "name": "ipython",
    "version": 3
   },
   "file_extension": ".py",
   "mimetype": "text/x-python",
   "name": "python",
   "nbconvert_exporter": "python",
   "pygments_lexer": "ipython3",
   "version": "3.9.0"
  }
 },
 "nbformat": 4,
 "nbformat_minor": 5
}
